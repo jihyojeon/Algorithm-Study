{
 "cells": [
  {
   "cell_type": "code",
   "execution_count": 5,
   "metadata": {},
   "outputs": [
    {
     "name": "stdout",
     "output_type": "stream",
     "text": [
      "10\n",
      "65\n",
      "100\n",
      "30\n",
      "95\n",
      "68\n"
     ]
    }
   ],
   "source": [
    "# 10039\n",
    "sum = 0\n",
    "n = 0\n",
    "while True:\n",
    "    if n == 5:\n",
    "        break\n",
    "    score = int(input())\n",
    "    if score < 40:\n",
    "        score = 40\n",
    "    sum += score\n",
    "    n += 1\n",
    "print(int(sum/n))"
   ]
  },
  {
   "cell_type": "code",
   "execution_count": 15,
   "metadata": {},
   "outputs": [
    {
     "name": "stdout",
     "output_type": "stream",
     "text": [
      "800\n",
      "700\n",
      "900\n",
      "198\n",
      "330\n",
      "848\n"
     ]
    }
   ],
   "source": [
    "# 5543\n",
    "burger = []\n",
    "drink = []\n",
    "l = 0\n",
    "while True:\n",
    "    l += 1\n",
    "    x = int(input())\n",
    "    if l <= 3:\n",
    "        burger.append(x)\n",
    "    else:\n",
    "        drink.append(x)\n",
    "    if l == 5:\n",
    "        break\n",
    "fee = []\n",
    "for b in burger:\n",
    "    for d in drink:\n",
    "        fee.append(b+d-50)\n",
    "print(min(fee))"
   ]
  },
  {
   "cell_type": "code",
   "execution_count": 22,
   "metadata": {},
   "outputs": [
    {
     "name": "stdout",
     "output_type": "stream",
     "text": [
      "20 30 10\n",
      "20\n"
     ]
    }
   ],
   "source": [
    "# 10817\n",
    "x = [int(i) for i in input().split()]\n",
    "x.remove(min(x))\n",
    "x.remove(max(x))\n",
    "print(x[0])"
   ]
  },
  {
   "cell_type": "code",
   "execution_count": 25,
   "metadata": {},
   "outputs": [
    {
     "name": "stdout",
     "output_type": "stream",
     "text": [
      "3\n",
      "*\n",
      "**\n",
      "***\n",
      "**\n",
      "*\n"
     ]
    },
    {
     "data": {
      "text/plain": [
       "[None, None, None]"
      ]
     },
     "execution_count": 25,
     "metadata": {},
     "output_type": "execute_result"
    }
   ],
   "source": [
    "# 2523\n",
    "n = int(input())\n",
    "[print('*'*i) for i in range(1,n)]\n",
    "[print('*'*(n-i)) for i in range(n)]"
   ]
  },
  {
   "cell_type": "code",
   "execution_count": 50,
   "metadata": {},
   "outputs": [
    {
     "name": "stdout",
     "output_type": "stream",
     "text": [
      "10\n",
      "*******************\n",
      " *****************\n",
      "  ***************\n",
      "   *************\n",
      "    ***********\n",
      "     *********\n",
      "      *******\n",
      "       *****\n",
      "        ***\n",
      "         *\n",
      "        ***\n",
      "       *****\n",
      "      *******\n",
      "     *********\n",
      "    ***********\n",
      "   *************\n",
      "  ***************\n",
      " *****************\n",
      "*******************\n"
     ]
    }
   ],
   "source": [
    "# 2446\n",
    "n = int(input())\n",
    "l = [' '*abs(i)+'*'*abs(2*n-(2*i+1)) for i in range(n)]\n",
    "for i in range(len(l)):\n",
    "    print(l[i])\n",
    "for i in range(2,len(l)+1):\n",
    "    print(l[-i])"
   ]
  },
  {
   "cell_type": "code",
   "execution_count": 81,
   "metadata": {},
   "outputs": [
    {
     "name": "stdout",
     "output_type": "stream",
     "text": [
      "4\n",
      "* * \n",
      " * *\n",
      "* * \n",
      " * *\n",
      "* * \n",
      " * *\n",
      "* * \n",
      " * *\n"
     ]
    }
   ],
   "source": [
    "# 10996\n",
    "x = int(input())\n",
    "l = ''\n",
    "for i in range(1,x+1):\n",
    "    if i%2==1:\n",
    "        l+='*'\n",
    "    else:\n",
    "        l+=' '\n",
    "l2 = ''\n",
    "for i in range(1,x+1):\n",
    "    if i%2==0:\n",
    "        l2+='*'\n",
    "    else:\n",
    "        l2+=' '\n",
    "for i in range(x):\n",
    "    if x==1:\n",
    "        print(l)\n",
    "    else:\n",
    "        print(l)\n",
    "        print(l2)"
   ]
  }
 ],
 "metadata": {
  "kernelspec": {
   "display_name": "Python 3",
   "language": "python",
   "name": "python3"
  },
  "language_info": {
   "codemirror_mode": {
    "name": "ipython",
    "version": 3
   },
   "file_extension": ".py",
   "mimetype": "text/x-python",
   "name": "python",
   "nbconvert_exporter": "python",
   "pygments_lexer": "ipython3",
   "version": "3.6.2"
  }
 },
 "nbformat": 4,
 "nbformat_minor": 4
}
