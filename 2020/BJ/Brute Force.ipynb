{
 "cells": [
  {
   "cell_type": "code",
   "execution_count": null,
   "metadata": {},
   "outputs": [],
   "source": [
    "# 2798\n",
    "\n",
    "N, M = input().split()\n",
    "n = int(N)\n",
    "m = int(M)\n",
    "cards = [int(i) for i in input().split()]\n",
    "s = []\n",
    "for i in cards:\n",
    "    for j in cards[cards.index(i)+1:]:\n",
    "        for k in cards[cards.index(j)+1:]:\n",
    "            case = i+j+k\n",
    "            s.append(case)\n",
    "possible = []\n",
    "for i in s:\n",
    "    if i<=m:\n",
    "        possible.append(i)\n",
    "gap = [abs(i-m) for i in possible]\n",
    "print(possible[gap.index(min(gap))])"
   ]
  },
  {
   "cell_type": "code",
   "execution_count": null,
   "metadata": {},
   "outputs": [],
   "source": [
    "# 2231\n",
    "\n",
    "N = input()\n",
    "n = int(N)\n",
    "makers = []\n",
    "\n",
    "for i in range(1,n):\n",
    "    s = 0\n",
    "    for j in str(i):\n",
    "        s += int(j)\n",
    "    if n == i+s:\n",
    "        makers.append(i)\n",
    "    \n",
    "if len(makers)>0:\n",
    "    print(min(makers))\n",
    "else:\n",
    "    print(0)"
   ]
  },
  {
   "cell_type": "code",
   "execution_count": 2,
   "metadata": {},
   "outputs": [
    {
     "name": "stdout",
     "output_type": "stream",
     "text": [
      "5\n",
      "55 185\n",
      "58 183\n",
      "88 186\n",
      "60 175\n",
      "46 155\n",
      "2 2 1 2 5\n"
     ]
    }
   ],
   "source": [
    "# 7568\n",
    "\n",
    "N = int(input())\n",
    "dungchi = []\n",
    "for i in range(N):\n",
    "    dungchi.append(input().split())\n",
    "grade = []\n",
    "for i in dungchi:\n",
    "    g = 1\n",
    "    for j in dungchi:\n",
    "        if i[0]<j[0] and i[1]<j[1]:\n",
    "            g += 1\n",
    "    grade.append(g)\n",
    "print(*grade)"
   ]
  },
  {
   "cell_type": "code",
   "execution_count": null,
   "metadata": {},
   "outputs": [],
   "source": [
    "# 1018\n",
    "N, M = map(int, input().split())\n",
    "map_list = [list(input()) for _ in range(N)]\n",
    "\n",
    "min_num = None\n",
    "\n",
    "for i in range(N - 7):\n",
    "    for j in range(M - 7):\n",
    "        num1, num2 = 0, 0\n",
    "        # W\n",
    "        for k in range(i, i + 8):\n",
    "            for l in range(j, j + 8):\n",
    "                if ((k + l - i - j) % 2 == 0):\n",
    "                    if (map_list[k][l] == 'B'):\n",
    "                        num1 += 1\n",
    "                else:\n",
    "                    if (map_list[k][l] == 'W'):\n",
    "                        num1 += 1\n",
    "\n",
    "        # B\n",
    "        for k in range(i, i + 8):\n",
    "            for l in range(j, j + 8):\n",
    "                if ((k + l - i - j) % 2 == 0):\n",
    "                    if (map_list[k][l] == 'W'):\n",
    "                        num2 += 1\n",
    "                else:\n",
    "                    if (map_list[k][l] == 'B'):\n",
    "                        num2 += 1\n",
    "\n",
    "        change_box = num1 if num1 < num2 else num2\n",
    "        if (min_num is None):\n",
    "            min_num = change_box\n",
    "        else:\n",
    "            min_num = change_box if min_num > change_box else min_num\n",
    "\n",
    "print(min_num)"
   ]
  },
  {
   "cell_type": "code",
   "execution_count": 7,
   "metadata": {},
   "outputs": [
    {
     "name": "stdout",
     "output_type": "stream",
     "text": [
      "1\n",
      "666\n"
     ]
    }
   ],
   "source": [
    "# 1436\n",
    "N = int(input())\n",
    "l = []\n",
    "i = 0\n",
    "while True:\n",
    "    if len(l) == N:\n",
    "        print(i)\n",
    "        break\n",
    "    i+=1\n",
    "    if '666' in str(i):\n",
    "        l.append(i)\n",
    "    "
   ]
  },
  {
   "cell_type": "code",
   "execution_count": 16,
   "metadata": {},
   "outputs": [
    {
     "name": "stdout",
     "output_type": "stream",
     "text": [
      "5 17\n"
     ]
    },
    {
     "ename": "KeyboardInterrupt",
     "evalue": "",
     "output_type": "error",
     "traceback": [
      "\u001b[1;31m---------------------------------------------------------------------------\u001b[0m",
      "\u001b[1;31mKeyboardInterrupt\u001b[0m                         Traceback (most recent call last)",
      "\u001b[1;32m<ipython-input-16-e7c22ca97c35>\u001b[0m in \u001b[0;36m<module>\u001b[1;34m\u001b[0m\n\u001b[0;32m      9\u001b[0m     \u001b[1;32mfor\u001b[0m \u001b[0mX\u001b[0m \u001b[1;32min\u001b[0m \u001b[0mway\u001b[0m\u001b[1;33m:\u001b[0m\u001b[1;33m\u001b[0m\u001b[1;33m\u001b[0m\u001b[0m\n\u001b[0;32m     10\u001b[0m         \u001b[0mway\u001b[0m\u001b[1;33m.\u001b[0m\u001b[0mappend\u001b[0m\u001b[1;33m(\u001b[0m\u001b[0mX\u001b[0m\u001b[1;33m-\u001b[0m\u001b[1;36m1\u001b[0m\u001b[1;33m)\u001b[0m\u001b[1;33m\u001b[0m\u001b[1;33m\u001b[0m\u001b[0m\n\u001b[1;32m---> 11\u001b[1;33m         \u001b[0mway\u001b[0m\u001b[1;33m.\u001b[0m\u001b[0mappend\u001b[0m\u001b[1;33m(\u001b[0m\u001b[0mX\u001b[0m\u001b[1;33m+\u001b[0m\u001b[1;36m1\u001b[0m\u001b[1;33m)\u001b[0m\u001b[1;33m\u001b[0m\u001b[1;33m\u001b[0m\u001b[0m\n\u001b[0m\u001b[0;32m     12\u001b[0m         \u001b[0mway\u001b[0m\u001b[1;33m.\u001b[0m\u001b[0mappend\u001b[0m\u001b[1;33m(\u001b[0m\u001b[0mX\u001b[0m\u001b[1;33m*\u001b[0m\u001b[1;36m2\u001b[0m\u001b[1;33m)\u001b[0m\u001b[1;33m\u001b[0m\u001b[1;33m\u001b[0m\u001b[0m\n\u001b[0;32m     13\u001b[0m     \u001b[0mway\u001b[0m \u001b[1;33m=\u001b[0m \u001b[0mway\u001b[0m\u001b[1;33m[\u001b[0m\u001b[1;33m-\u001b[0m\u001b[1;36m3\u001b[0m\u001b[1;33m:\u001b[0m\u001b[1;33m]\u001b[0m\u001b[1;33m\u001b[0m\u001b[1;33m\u001b[0m\u001b[0m\n",
      "\u001b[1;31mKeyboardInterrupt\u001b[0m: "
     ]
    }
   ],
   "source": [
    "#1697\n",
    "N, K = map(int,input().split())\n",
    "n = 0\n",
    "way = [N]\n",
    "while True:\n",
    "    if K in way:\n",
    "        print(n)\n",
    "        break\n",
    "    for X in way:\n",
    "        way.append(X-1)\n",
    "        way.append(X+1)\n",
    "        way.append(X*2)\n",
    "    way = way[-3:]\n",
    "    print(way)\n",
    "    n+=1"
   ]
  },
  {
   "cell_type": "code",
   "execution_count": null,
   "metadata": {},
   "outputs": [],
   "source": []
  }
 ],
 "metadata": {
  "kernelspec": {
   "display_name": "Python 3",
   "language": "python",
   "name": "python3"
  },
  "language_info": {
   "codemirror_mode": {
    "name": "ipython",
    "version": 3
   },
   "file_extension": ".py",
   "mimetype": "text/x-python",
   "name": "python",
   "nbconvert_exporter": "python",
   "pygments_lexer": "ipython3",
   "version": "3.8.3"
  }
 },
 "nbformat": 4,
 "nbformat_minor": 4
}
