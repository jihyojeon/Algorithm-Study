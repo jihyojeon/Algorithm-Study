{
 "cells": [
  {
   "cell_type": "code",
   "execution_count": 9,
   "metadata": {},
   "outputs": [
    {
     "name": "stdout",
     "output_type": "stream",
     "text": [
      "5\n",
      "20 10 35 30 7\n",
      "[20, 10, 35, 30, 7]\n",
      "7 35\n"
     ]
    }
   ],
   "source": [
    "#10818\n",
    "x = int(input())\n",
    "l = input().split()\n",
    "intl = []\n",
    "for element in l:\n",
    "    intl.append(int(element))\n",
    "print(min(intl), max(intl))"
   ]
  },
  {
   "cell_type": "code",
   "execution_count": 11,
   "metadata": {},
   "outputs": [
    {
     "name": "stdout",
     "output_type": "stream",
     "text": [
      "3\n",
      "29\n",
      "38\n",
      "12\n",
      "57\n",
      "74\n",
      "40\n",
      "85\n",
      "61\n",
      "3\n",
      "1\n"
     ]
    }
   ],
   "source": [
    "# 2562\n",
    "l = []\n",
    "for i in range(9):\n",
    "    l.append(int(input()))\n",
    "print(max(l))\n",
    "print(l.index(max(l))+1)"
   ]
  },
  {
   "cell_type": "code",
   "execution_count": 13,
   "metadata": {},
   "outputs": [
    {
     "name": "stdout",
     "output_type": "stream",
     "text": [
      "150\n",
      "266\n",
      "427\n",
      "3\n",
      "1\n",
      "0\n",
      "2\n",
      "0\n",
      "0\n",
      "0\n",
      "2\n",
      "0\n",
      "0\n"
     ]
    }
   ],
   "source": [
    "#2577\n",
    "a = int(input())\n",
    "b = int(input())\n",
    "c = int(input())\n",
    "x = str(a*b*c)\n",
    "n = [0,0,0,0,0,0,0,0,0,0]\n",
    "for i in x:\n",
    "    n[int(i)]+=1\n",
    "for i in n:\n",
    "    print(i)"
   ]
  },
  {
   "cell_type": "code",
   "execution_count": 16,
   "metadata": {},
   "outputs": [
    {
     "name": "stdout",
     "output_type": "stream",
     "text": [
      "39\n",
      "40\n",
      "41\n",
      "42\n",
      "43\n",
      "44\n",
      "82\n",
      "83\n",
      "84\n",
      "85\n",
      "6\n"
     ]
    }
   ],
   "source": [
    "# 3052\n",
    "l = []\n",
    "for i in range(10):\n",
    "    l.append(int(input()))\n",
    "r = []\n",
    "for i in l:\n",
    "    r.append(i%42)\n",
    "r = set(r)\n",
    "print(len(r))"
   ]
  },
  {
   "cell_type": "code",
   "execution_count": 19,
   "metadata": {},
   "outputs": [
    {
     "name": "stdout",
     "output_type": "stream",
     "text": [
      "3\n",
      "10 20 30\n",
      "66.66666666666667\n"
     ]
    }
   ],
   "source": [
    "# 1546\n",
    "N = int(input())\n",
    "l = input().split()\n",
    "for i in range(len(l)):\n",
    "    l[i] = int(l[i])\n",
    "max_score = max(l)\n",
    "s = 0\n",
    "for i in range(len(l)):\n",
    "    l[i] = l[i]/max_score*100\n",
    "    s += l[i]\n",
    "print(s/len(l))"
   ]
  },
  {
   "cell_type": "code",
   "execution_count": 20,
   "metadata": {},
   "outputs": [
    {
     "name": "stdout",
     "output_type": "stream",
     "text": [
      "5\n",
      "OOXXOXXOOO\n",
      "10\n",
      "OOXXOOXXOO\n",
      "9\n",
      "OXOXOXOXOXOXOX\n",
      "7\n",
      "OOOOOOOOOO\n",
      "55\n",
      "OOOOXOOOOXOOOOX\n",
      "30\n"
     ]
    }
   ],
   "source": [
    "# 8958\n",
    "x = int(input())\n",
    "for i in range(x):\n",
    "    test = input()\n",
    "    s = 0\n",
    "    s_o = 0\n",
    "    for n in test:\n",
    "        if n == 'O':\n",
    "            s += 1\n",
    "            s += s_o\n",
    "            s_o += 1\n",
    "        if n == 'X':\n",
    "            s_o = 0\n",
    "    print(s)"
   ]
  },
  {
   "cell_type": "code",
   "execution_count": 30,
   "metadata": {},
   "outputs": [
    {
     "name": "stdout",
     "output_type": "stream",
     "text": [
      "5\n",
      "5 50 50 70 80 100\n",
      "40.000%\n",
      "7 100 95 90 80 70 60 50\n",
      "57.143%\n",
      "3 70 90 80\n",
      "33.333%\n",
      "3 70 90 81\n",
      "66.667%\n",
      "9 100 99 98 97 96 95 94 93 91\n",
      "55.556%\n"
     ]
    }
   ],
   "source": [
    "# 4344\n",
    "x = int(input())\n",
    "for i in range(x):\n",
    "    l = input().split()\n",
    "    n = int(l[0])\n",
    "    s = 0\n",
    "    for i in range(n):\n",
    "        s += int(l[i+1])\n",
    "    avg = s/n\n",
    "    m = 0\n",
    "    for i in range(n):\n",
    "        if int(l[i+1])>avg:\n",
    "            m += 1\n",
    "    p = m/n*100\n",
    "    print(format(p,\".3f\")+'%')"
   ]
  },
  {
   "cell_type": "code",
   "execution_count": null,
   "metadata": {},
   "outputs": [],
   "source": []
  },
  {
   "cell_type": "code",
   "execution_count": null,
   "metadata": {},
   "outputs": [],
   "source": []
  }
 ],
 "metadata": {
  "kernelspec": {
   "display_name": "Python 3",
   "language": "python",
   "name": "python3"
  },
  "language_info": {
   "codemirror_mode": {
    "name": "ipython",
    "version": 3
   },
   "file_extension": ".py",
   "mimetype": "text/x-python",
   "name": "python",
   "nbconvert_exporter": "python",
   "pygments_lexer": "ipython3",
   "version": "3.6.2"
  }
 },
 "nbformat": 4,
 "nbformat_minor": 4
}
