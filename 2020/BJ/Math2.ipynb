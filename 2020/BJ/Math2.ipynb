{
 "cells": [
  {
   "cell_type": "code",
   "execution_count": 22,
   "metadata": {},
   "outputs": [
    {
     "name": "stdout",
     "output_type": "stream",
     "text": [
      "1 2 3 4 5 6 7 8 9 10 11 12 13 14 15 16 17 18 19 20 21 22 23 24\n",
      "23\n",
      "[2, 3, 4, 5, 6, 7, 8, 9, 10, 11, 12, 13, 14, 15, 16, 17, 18, 19, 20, 21, 22, 23, 24]\n",
      "[2, 3, 5, 7, 11, 13, 17, 19, 23]\n"
     ]
    }
   ],
   "source": [
    "# 1978\n",
    "T = int(input())\n",
    "numbers = input().split()\n",
    "numbers = [int(i) for i in numbers if i != '1']\n",
    "numbers2 = numbers.copy()\n",
    "for n in numbers:\n",
    "    for i in range(2, n):\n",
    "        if n%i == 0:\n",
    "            numbers2.remove(n)\n",
    "            break\n",
    "print(len(numbers2))"
   ]
  },
  {
   "cell_type": "code",
   "execution_count": 28,
   "metadata": {},
   "outputs": [
    {
     "name": "stdout",
     "output_type": "stream",
     "text": [
      "1\n",
      "2\n",
      "2\n",
      "2\n"
     ]
    }
   ],
   "source": [
    "#2581\n",
    "M = int(input())\n",
    "N = int(input())\n",
    "numbers = [i for i in range(M, N+1) if i != 1]\n",
    "sosu = numbers.copy()\n",
    "for n in numbers:\n",
    "    for i in range(2,n):\n",
    "        if n%i == 0:\n",
    "            sosu.remove(n)\n",
    "            break\n",
    "            \n",
    "if len(sosu) > 0:\n",
    "    print(sum(sosu))\n",
    "    print(min(sosu))\n",
    "else:\n",
    "    print(-1)"
   ]
  },
  {
   "cell_type": "code",
   "execution_count": 56,
   "metadata": {},
   "outputs": [
    {
     "name": "stdout",
     "output_type": "stream",
     "text": [
      "3 5\n",
      "3\n",
      "5\n"
     ]
    },
    {
     "data": {
      "text/plain": [
       "[None, None]"
      ]
     },
     "execution_count": 56,
     "metadata": {},
     "output_type": "execute_result"
    }
   ],
   "source": [
    "#1929\n",
    "import math\n",
    "M, N = input().split()\n",
    "m = int(M)\n",
    "n = int(N)\n",
    "def get_primes(m, n):\n",
    "    is_prime = [True]*n\n",
    "    max_length = math.ceil(math.sqrt(n))\n",
    "    for i in range(2, max_length):\n",
    "        if is_prime[i]:\n",
    "            for j in range(i*2, n, i):\n",
    "                is_prime[j] = False\n",
    "    return [print(i) for i in range(m, n) if is_prime[i] and i!=1]\n",
    "\n",
    "get_primes(m,n+1)"
   ]
  },
  {
   "cell_type": "code",
   "execution_count": 65,
   "metadata": {},
   "outputs": [
    {
     "name": "stdout",
     "output_type": "stream",
     "text": [
      "1234568\n",
      "85621\n",
      "0\n"
     ]
    }
   ],
   "source": [
    "# 4948\n",
    "\n",
    "def get_primes(m):\n",
    "    n = 2*m + 1\n",
    "    m = m + 1\n",
    "    is_prime = [True]*n\n",
    "    max_length = math.ceil(math.sqrt(n))\n",
    "    for i in range(2, max_length):\n",
    "        if is_prime[i]:\n",
    "            for j in range(i*2, n, i):\n",
    "                is_prime[j] = False\n",
    "    l = [i for i in range(m, n) if is_prime[i] and i!=1]\n",
    "    return len(l)\n",
    "\n",
    "while True:\n",
    "    m = input()\n",
    "    if m == '0':\n",
    "        break\n",
    "    print(get_primes(int(m)))\n",
    "    "
   ]
  },
  {
   "cell_type": "code",
   "execution_count": 71,
   "metadata": {},
   "outputs": [
    {
     "name": "stdout",
     "output_type": "stream",
     "text": [
      "3\n",
      "8\n",
      "[2, 3, 5, 7]\n",
      "3 5\n",
      "10\n",
      "[2, 3, 5, 7]\n",
      "5 5\n",
      "16\n",
      "[2, 3, 5, 7, 11, 13]\n",
      "5 11\n"
     ]
    }
   ],
   "source": [
    "#9020\n",
    "T = int(input())\n",
    "\n",
    "def get_primes(n):\n",
    "    is_prime = [True]*n\n",
    "    max_length = math.ceil(math.sqrt(n))\n",
    "    for i in range(2, max_length):\n",
    "        if is_prime[i]:\n",
    "            for j in range(i*2, n, i):\n",
    "                is_prime[j] = False\n",
    "    l = [i for i in range(2, n) if is_prime[i]]\n",
    "    return l\n",
    "\n",
    "def cal(l, even):\n",
    "    s = []\n",
    "    gap = []\n",
    "    for i in l:\n",
    "        for j in l[l.index(i):]:\n",
    "            if i+j == even:\n",
    "                s.append([i,j])\n",
    "                gap.append(abs(i-j))\n",
    "    return print(*s[gap.index(min(gap))])\n",
    "    \n",
    "for i in range(T):\n",
    "    even = int(input())\n",
    "    l = get_primes(even)\n",
    "    cal(l, even)"
   ]
  },
  {
   "cell_type": "code",
   "execution_count": 74,
   "metadata": {},
   "outputs": [
    {
     "name": "stdout",
     "output_type": "stream",
     "text": [
      "6 2 10 3\n",
      "1\n"
     ]
    }
   ],
   "source": [
    "# 1085\n",
    "\n",
    "x, y, w, h = input().split()\n",
    "l = [abs(int(x)-int(w)), abs(int(x)-0), abs(int(y)-0), abs(int(y)-int(h))]\n",
    "print(min(l))"
   ]
  },
  {
   "cell_type": "code",
   "execution_count": 78,
   "metadata": {},
   "outputs": [
    {
     "name": "stdout",
     "output_type": "stream",
     "text": [
      "30 20\n",
      "10 10\n",
      "10 20\n",
      "30 10\n"
     ]
    }
   ],
   "source": [
    "# 3009\n",
    "\n",
    "xlist = []\n",
    "ylist = []\n",
    "\n",
    "for i in range(3):\n",
    "    x, y = input().split()\n",
    "    if x not in xlist:\n",
    "        xlist.append(x)\n",
    "    else:\n",
    "        xlist.remove(x)\n",
    "    if y not in ylist:\n",
    "        ylist.append(y)\n",
    "    else:\n",
    "        ylist.remove(y)\n",
    "\n",
    "print(*xlist, *ylist)"
   ]
  },
  {
   "cell_type": "code",
   "execution_count": 84,
   "metadata": {},
   "outputs": [
    {
     "name": "stdout",
     "output_type": "stream",
     "text": [
      "6 8 10\n",
      "right\n",
      "25 52 60\n",
      "wrong\n",
      "5 12 13\n",
      "right\n",
      "0 0 0\n"
     ]
    }
   ],
   "source": [
    "# 4153\n",
    "\n",
    "while True:\n",
    "    sides = input().split()\n",
    "    if sides == ['0', '0', '0']:\n",
    "        break\n",
    "    sides_square = [int(i)*int(i) for i in sides]\n",
    "    longest = max(sides_square)\n",
    "    sides_square.remove(longest)\n",
    "    if sides_square[0]+sides_square[1] == longest:\n",
    "        print('right')\n",
    "    else:\n",
    "        print('wrong')"
   ]
  },
  {
   "cell_type": "code",
   "execution_count": 92,
   "metadata": {},
   "outputs": [
    {
     "name": "stdout",
     "output_type": "stream",
     "text": [
      "1\n",
      "3.141593\n",
      "2.000000\n"
     ]
    }
   ],
   "source": [
    "# 3053\n",
    "import math\n",
    "pi = math.pi\n",
    "\n",
    "r = int(input())\n",
    "taxi = 2*r*r\n",
    "Eu = pi*r*r\n",
    "print(round(Eu,6))\n",
    "print('%.6f' %taxi)"
   ]
  },
  {
   "cell_type": "code",
   "execution_count": 102,
   "metadata": {},
   "outputs": [
    {
     "name": "stdout",
     "output_type": "stream",
     "text": [
      "1\n",
      "0 0 1 0 0 1\n",
      "-1\n"
     ]
    }
   ],
   "source": [
    "# 1002\n",
    "import math\n",
    "\n",
    "T = int(input())\n",
    "\n",
    "for i in range(T):\n",
    "    x1, y1, r1, x2, y2, r2 = input().split()\n",
    "    x1 = int(x1)\n",
    "    y1 = int(y1)\n",
    "    r1 = int(r1)\n",
    "    x2 = int(x2)\n",
    "    y2 = int(y2)\n",
    "    r2 = int(r2)\n",
    "    d = math.sqrt((x1-x2)**2 + (y1-y2)**2)\n",
    "    if d == 0:\n",
    "        if r1 != r2:\n",
    "            print(0)\n",
    "        else:\n",
    "            print(-1)\n",
    "    else:\n",
    "        if d > r1+r2 or d < abs(r2-r1):\n",
    "            print(0)\n",
    "        elif abs(r2-r1) < d and d < r1+r2:\n",
    "            print(2)\n",
    "        else:\n",
    "            print(1)"
   ]
  },
  {
   "cell_type": "code",
   "execution_count": null,
   "metadata": {},
   "outputs": [],
   "source": []
  },
  {
   "cell_type": "code",
   "execution_count": null,
   "metadata": {},
   "outputs": [],
   "source": []
  }
 ],
 "metadata": {
  "kernelspec": {
   "display_name": "Python 3",
   "language": "python",
   "name": "python3"
  },
  "language_info": {
   "codemirror_mode": {
    "name": "ipython",
    "version": 3
   },
   "file_extension": ".py",
   "mimetype": "text/x-python",
   "name": "python",
   "nbconvert_exporter": "python",
   "pygments_lexer": "ipython3",
   "version": "3.6.2"
  }
 },
 "nbformat": 4,
 "nbformat_minor": 4
}
