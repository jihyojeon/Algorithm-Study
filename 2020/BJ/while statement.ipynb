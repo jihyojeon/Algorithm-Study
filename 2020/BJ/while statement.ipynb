{
 "cells": [
  {
   "cell_type": "code",
   "execution_count": 3,
   "metadata": {},
   "outputs": [
    {
     "name": "stdout",
     "output_type": "stream",
     "text": [
      "1 1\n",
      "2\n",
      "0 0\n"
     ]
    }
   ],
   "source": [
    "# 10952\n",
    "while True:\n",
    "    x = input()\n",
    "    a, b = x.split(\" \")\n",
    "    if int(a) == 0 and int(b) == 0:\n",
    "        break\n",
    "    print(int(a)+int(b))"
   ]
  },
  {
   "cell_type": "code",
   "execution_count": 13,
   "metadata": {},
   "outputs": [
    {
     "name": "stdout",
     "output_type": "stream",
     "text": [
      "EOF\n"
     ]
    }
   ],
   "source": [
    "# 10951\n",
    "while True:\n",
    "    try:\n",
    "        a, b = input().split(\" \")\n",
    "        print(int(a)+int(b))\n",
    "    except:\n",
    "        break"
   ]
  },
  {
   "cell_type": "code",
   "execution_count": 70,
   "metadata": {},
   "outputs": [
    {
     "name": "stdout",
     "output_type": "stream",
     "text": [
      "55\n",
      "1 50\n",
      "2 05\n",
      "3 55\n",
      "3\n"
     ]
    }
   ],
   "source": [
    "# 1110\n",
    "x = input()\n",
    "initial = x\n",
    "n = 0\n",
    "while True:\n",
    "    if int(x) < 10 and len(x) != 2:\n",
    "        x = '0' + x\n",
    "    x2 = str(int(x[0])+int(x[1]))\n",
    "    x3 = x[-1] + x2[-1]\n",
    "    n += 1\n",
    "    if int(x3) == int(initial):\n",
    "        break\n",
    "    else:\n",
    "        x = x3\n",
    "print(n)"
   ]
  },
  {
   "cell_type": "code",
   "execution_count": null,
   "metadata": {},
   "outputs": [],
   "source": []
  }
 ],
 "metadata": {
  "kernelspec": {
   "display_name": "Python 3",
   "language": "python",
   "name": "python3"
  },
  "language_info": {
   "codemirror_mode": {
    "name": "ipython",
    "version": 3
   },
   "file_extension": ".py",
   "mimetype": "text/x-python",
   "name": "python",
   "nbconvert_exporter": "python",
   "pygments_lexer": "ipython3",
   "version": "3.6.2"
  }
 },
 "nbformat": 4,
 "nbformat_minor": 4
}
