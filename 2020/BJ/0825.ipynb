{
 "cells": [
  {
   "cell_type": "code",
   "execution_count": 54,
   "metadata": {},
   "outputs": [
    {
     "name": "stdout",
     "output_type": "stream",
     "text": [
      "48\n",
      "2\n"
     ]
    }
   ],
   "source": [
    "#1094\n",
    "\n",
    "X = int(input())\n",
    "l = [64]\n",
    "while True:\n",
    "    if sum(l) == X:\n",
    "        print(len(l))\n",
    "        break\n",
    "    l[-1] = l[-1]/2\n",
    "    if sum(l) >= X:\n",
    "        continue\n",
    "    else:\n",
    "        l.append(l[-1])"
   ]
  },
  {
   "cell_type": "code",
   "execution_count": 1,
   "metadata": {},
   "outputs": [
    {
     "name": "stdout",
     "output_type": "stream",
     "text": [
      "10\n",
      "2 1 -4 3 4 -4 6 5 -5 1\n",
      "14\n"
     ]
    }
   ],
   "source": [
    "#1912\n",
    "n = int(input())\n",
    "a = list(map(int, input().split()))\n",
    "sumlist = [a[0]]\n",
    "for i in range(0, len(a)-1):\n",
    "    ele = max(sumlist[i]+a[i+1],a[i+1])\n",
    "    sumlist.append(ele)\n",
    "print(max(sumlist))"
   ]
  },
  {
   "cell_type": "code",
   "execution_count": 46,
   "metadata": {},
   "outputs": [
    {
     "name": "stdout",
     "output_type": "stream",
     "text": [
      "25\n",
      "[1, 6, 19, 44]\n",
      "3\n"
     ]
    }
   ],
   "source": [
    "# 7770\n",
    "n = int(input())\n",
    "i = 1\n",
    "blocks = [1]\n",
    "while True:\n",
    "    blocks.append(blocks[i-1] + i**2 + (i+1)**2)\n",
    "    if n >= blocks[i-1] and n < blocks[i]:\n",
    "        print(i)\n",
    "        break\n",
    "    i += 1"
   ]
  },
  {
   "cell_type": "code",
   "execution_count": 48,
   "metadata": {},
   "outputs": [
    {
     "name": "stdout",
     "output_type": "stream",
     "text": [
      "5\n",
      "16 32 128 128 0\n",
      "32768\n",
      "131072\n"
     ]
    }
   ],
   "source": [
    "#1350\n",
    "import math\n",
    "\n",
    "n = int(input())\n",
    "files = list(map(int, input().split()))\n",
    "cluster = int(input())\n",
    "num = 0\n",
    "for file in files:\n",
    "    num += math.ceil(file / cluster)\n",
    "print(num*cluster)"
   ]
  },
  {
   "cell_type": "code",
   "execution_count": 4,
   "metadata": {},
   "outputs": [
    {
     "name": "stdout",
     "output_type": "stream",
     "text": [
      "3\n",
      "1 0\n",
      "5\n",
      "1\n",
      "4 2\n",
      "1 2 3 4\n",
      "2\n",
      "6 0\n",
      "1 1 9 1 1 1\n",
      "5\n"
     ]
    }
   ],
   "source": [
    "#1966\n",
    "import collections\n",
    "\n",
    "T = int(input())\n",
    "for _ in range(T):\n",
    "    n, loca = list(map(int, input().split()))\n",
    "    impor = collections.deque((map(int, input().split())))\n",
    "    queue = collections.deque([i for i in range(0, n)])\n",
    "    i = 0\n",
    "    while True:\n",
    "        if len(impor) == 0:\n",
    "            break\n",
    "        if impor[0] == max(impor):\n",
    "            i += 1\n",
    "            impor.popleft()\n",
    "            if queue.popleft() == loca:\n",
    "                print(i)\n",
    "        else:\n",
    "            impor.append(impor.popleft())\n",
    "            queue.append(queue.popleft())"
   ]
  },
  {
   "cell_type": "code",
   "execution_count": 10,
   "metadata": {},
   "outputs": [
    {
     "ename": "ValueError",
     "evalue": "invalid literal for int() with base 10: ''",
     "output_type": "error",
     "traceback": [
      "\u001b[1;31m---------------------------------------------------------------------------\u001b[0m",
      "\u001b[1;31mValueError\u001b[0m                                Traceback (most recent call last)",
      "\u001b[1;32m<ipython-input-10-8abdbbdab8f3>\u001b[0m in \u001b[0;36m<module>\u001b[1;34m\u001b[0m\n\u001b[0;32m      4\u001b[0m \u001b[1;33m\u001b[0m\u001b[0m\n\u001b[0;32m      5\u001b[0m \u001b[0md\u001b[0m \u001b[1;33m=\u001b[0m \u001b[0mcollections\u001b[0m\u001b[1;33m.\u001b[0m\u001b[0mdeque\u001b[0m\u001b[1;33m(\u001b[0m\u001b[1;33m)\u001b[0m\u001b[1;33m\u001b[0m\u001b[1;33m\u001b[0m\u001b[0m\n\u001b[1;32m----> 6\u001b[1;33m \u001b[0mN\u001b[0m \u001b[1;33m=\u001b[0m \u001b[0mint\u001b[0m\u001b[1;33m(\u001b[0m\u001b[0msys\u001b[0m\u001b[1;33m.\u001b[0m\u001b[0mstdin\u001b[0m\u001b[1;33m.\u001b[0m\u001b[0mreadline\u001b[0m\u001b[1;33m(\u001b[0m\u001b[1;33m)\u001b[0m\u001b[1;33m)\u001b[0m\u001b[1;33m\u001b[0m\u001b[1;33m\u001b[0m\u001b[0m\n\u001b[0m\u001b[0;32m      7\u001b[0m \u001b[1;32mfor\u001b[0m \u001b[0mi\u001b[0m \u001b[1;32min\u001b[0m \u001b[0mrange\u001b[0m\u001b[1;33m(\u001b[0m\u001b[0mN\u001b[0m\u001b[1;33m)\u001b[0m\u001b[1;33m:\u001b[0m\u001b[1;33m\u001b[0m\u001b[1;33m\u001b[0m\u001b[0m\n\u001b[0;32m      8\u001b[0m     \u001b[0mcommand\u001b[0m \u001b[1;33m=\u001b[0m \u001b[0msys\u001b[0m\u001b[1;33m.\u001b[0m\u001b[0mstdin\u001b[0m\u001b[1;33m.\u001b[0m\u001b[0mreadline\u001b[0m\u001b[1;33m(\u001b[0m\u001b[1;33m)\u001b[0m\u001b[1;33m.\u001b[0m\u001b[0msplit\u001b[0m\u001b[1;33m(\u001b[0m\u001b[1;33m)\u001b[0m\u001b[1;33m\u001b[0m\u001b[1;33m\u001b[0m\u001b[0m\n",
      "\u001b[1;31mValueError\u001b[0m: invalid literal for int() with base 10: ''"
     ]
    }
   ],
   "source": [
    "# 10866\n",
    "import collections\n",
    "import sys\n",
    "\n",
    "d = collections.deque()\n",
    "N = int(sys.stdin.readline())\n",
    "for i in range(N):\n",
    "    command = sys.stdin.readline().split()\n",
    "    if command[0] == 'push_front':\n",
    "        d.appendleft(int(command[1]))\n",
    "    elif command[0] == 'push_back':\n",
    "        d.append(int(command[1]))\n",
    "    elif command[0] == 'pop_front':\n",
    "        if len(d) == 0:\n",
    "            print(-1)\n",
    "        else:\n",
    "            print(d.popleft())\n",
    "    elif command[0] == 'pop_back':\n",
    "        if len(d) == 0:\n",
    "            print(-1)\n",
    "        else:\n",
    "            print(d.pop())\n",
    "    elif command[0] == 'size':\n",
    "        print(len(d))\n",
    "    elif command[0] == 'empty':\n",
    "        if len(d) == 0:\n",
    "            print(1)\n",
    "        else:\n",
    "            print(0)\n",
    "    elif command[0] == 'front':\n",
    "        if len(d) == 0:\n",
    "            print(-1)\n",
    "        else:\n",
    "            print(d[0])\n",
    "    elif command[0] == 'back':\n",
    "        if len(d) == 0:\n",
    "            print(-1)\n",
    "        else:\n",
    "            print(d[-1])"
   ]
  },
  {
   "cell_type": "code",
   "execution_count": 20,
   "metadata": {},
   "outputs": [
    {
     "name": "stdout",
     "output_type": "stream",
     "text": [
      "10 10\n",
      "1 6 3 2 7 9 8 4 10 5\n",
      "14\n"
     ]
    }
   ],
   "source": [
    "#1021\n",
    "import collections\n",
    "\n",
    "N, M = list(map(int, input().split()))\n",
    "cycle = collections.deque([i for i in range(1, N+1)])\n",
    "loc = list(map(int, input().split()))\n",
    "cnt = 0\n",
    "for l in loc:\n",
    "    while True:\n",
    "        if cycle[0] == l:\n",
    "            cycle.popleft()\n",
    "            break\n",
    "        if cycle.index(l) < len(cycle)/2:\n",
    "            cycle.append(cycle.popleft())\n",
    "            cnt += 1\n",
    "        else:\n",
    "            cycle.appendleft(cycle.pop())\n",
    "            cnt += 1\n",
    "print(cnt)"
   ]
  },
  {
   "cell_type": "code",
   "execution_count": null,
   "metadata": {},
   "outputs": [],
   "source": [
    "#5430\n",
    "import collections\n",
    "import sys\n",
    "\n",
    "def R(array):\n",
    "    new = collections.deque()\n",
    "    for e in array:\n",
    "        new.appendleft(e)\n",
    "    return new\n",
    "\n",
    "def D(array):\n",
    "    if len(array) == 0:\n",
    "        return 0\n",
    "    array.popleft()\n",
    "    return array\n",
    "\n",
    "def printdeque(array):\n",
    "    str = '['\n",
    "    for i in array:\n",
    "        str += f'{i},'\n",
    "    str = str[:-1] + ']'\n",
    "    print(str)\n",
    "\n",
    "array = collections.deque()\n",
    "T = int(sys.stdin.readline())\n",
    "for _ in range(T):\n",
    "    command = sys.stdin.readline()\n",
    "    n = int(sys.stdin.readline())\n",
    "    array = collections.deque(list(map(int, input()[1:-1].split(','))))\n",
    "    for i in command:\n",
    "        if i == 'R':\n",
    "            array = R(array)\n",
    "        elif i == 'D':\n",
    "            array = D(array)\n",
    "            if array == 0:\n",
    "                print('error')\n",
    "                break\n",
    "    if array != 0:\n",
    "        printdeque(array)"
   ]
  },
  {
   "cell_type": "code",
   "execution_count": null,
   "metadata": {},
   "outputs": [],
   "source": []
  },
  {
   "cell_type": "code",
   "execution_count": null,
   "metadata": {},
   "outputs": [],
   "source": []
  }
 ],
 "metadata": {
  "kernelspec": {
   "display_name": "Python 3",
   "language": "python",
   "name": "python3"
  },
  "language_info": {
   "codemirror_mode": {
    "name": "ipython",
    "version": 3
   },
   "file_extension": ".py",
   "mimetype": "text/x-python",
   "name": "python",
   "nbconvert_exporter": "python",
   "pygments_lexer": "ipython3",
   "version": "3.8.3"
  }
 },
 "nbformat": 4,
 "nbformat_minor": 4
}
