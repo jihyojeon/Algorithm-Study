{
 "cells": [
  {
   "cell_type": "code",
   "execution_count": 3,
   "metadata": {},
   "outputs": [
    {
     "name": "stdout",
     "output_type": "stream",
     "text": [
      "5\n",
      "5\n",
      "2\n",
      "3\n",
      "4\n",
      "1\n",
      "1\n",
      "2\n",
      "3\n",
      "4\n",
      "5\n"
     ]
    }
   ],
   "source": [
    "# 2750\n",
    "\n",
    "N = int(input())\n",
    "l = []\n",
    "for i in range(N):\n",
    "    l.append(int(input()))\n",
    "l.sort()\n",
    "for i in l:\n",
    "    print(i)"
   ]
  },
  {
   "cell_type": "code",
   "execution_count": 6,
   "metadata": {},
   "outputs": [
    {
     "name": "stdout",
     "output_type": "stream",
     "text": [
      "5\n",
      "5\n",
      "4\n",
      "3\n",
      "2\n",
      "1\n",
      "1\n",
      "2\n",
      "3\n",
      "4\n",
      "5\n"
     ]
    }
   ],
   "source": [
    "#2751\n",
    "N = int(input())\n",
    "l = []\n",
    "for i in range(N):\n",
    "    l.append(int(input()))\n",
    "l.sort()\n",
    "for i in l:\n",
    "    print(i)"
   ]
  },
  {
   "cell_type": "code",
   "execution_count": 24,
   "metadata": {},
   "outputs": [
    {
     "name": "stdout",
     "output_type": "stream",
     "text": [
      "5\n",
      "-1\n",
      "-2\n",
      "-3\n",
      "-1\n",
      "-2\n",
      "-2\n",
      "-2\n",
      "-1\n",
      "2\n"
     ]
    }
   ],
   "source": [
    "# 2108\n",
    "N = int(input())\n",
    "l = []\n",
    "numbers = []\n",
    "cnt = [0 for i in range(N)]\n",
    "for i in range(N):\n",
    "    n = int(input())\n",
    "    l.append(n)\n",
    "    if n in numbers:\n",
    "        cnt[numbers.index(n)] += 1\n",
    "    else:\n",
    "        numbers.append(n)\n",
    "        cnt[numbers.index(n)] += 1\n",
    "\n",
    "avg = round(sum(l)/N)\n",
    "l.sort()\n",
    "med = l[round(N/2)]\n",
    "r = max(l)-min(l)\n",
    "so = cnt.copy()\n",
    "so.sort()\n",
    "maxcnt = max(so)\n",
    "so.remove(maxcnt)\n",
    "possible = []\n",
    "if maxcnt in so:\n",
    "    for i in cnt:\n",
    "        if i == maxcnt:\n",
    "            possible.append(numbers[cnt.index(maxcnt)])\n",
    "    possible.sort()\n",
    "    mode = possible[1]\n",
    "else:\n",
    "    mode = numbers[cnt.index(maxcnt)]\n",
    "print(avg)\n",
    "print(med)\n",
    "print(mode)\n",
    "print(r)"
   ]
  },
  {
   "cell_type": "code",
   "execution_count": 26,
   "metadata": {},
   "outputs": [
    {
     "name": "stdout",
     "output_type": "stream",
     "text": [
      "2143\n",
      "4321\n"
     ]
    }
   ],
   "source": [
    "# 1427\n",
    "\n",
    "N = input()\n",
    "l = [int(i) for i in N]\n",
    "l.sort(reverse=True)\n",
    "output = ''\n",
    "for i in l:\n",
    "    output+=str(i)\n",
    "print(output)"
   ]
  },
  {
   "cell_type": "code",
   "execution_count": 36,
   "metadata": {},
   "outputs": [
    {
     "name": "stdout",
     "output_type": "stream",
     "text": [
      "5\n",
      "3 4\n",
      "1 1\n",
      "1 -1\n",
      "2 2\n",
      "3 3\n",
      "1 -1\n",
      "1 1\n",
      "2 2\n",
      "3 3\n",
      "3 4\n"
     ]
    }
   ],
   "source": [
    "# 11650\n",
    "\n",
    "def list_duplicates(xlist, ylist, m):\n",
    "    l = []\n",
    "    for i in range(len(xlist)):\n",
    "        if xlist[i] == m:\n",
    "            l.append(ylist[i])\n",
    "    return l\n",
    "\n",
    "N = int(input())\n",
    "xlist = []\n",
    "ylist = []\n",
    "for i in range(N):\n",
    "    x, y = input().split()\n",
    "    xlist.append(int(x))\n",
    "    ylist.append(int(y))\n",
    "\n",
    "so = xlist.copy()\n",
    "so.sort()\n",
    "i = 0\n",
    "while True:\n",
    "    if i == N:\n",
    "        break\n",
    "    if so[i] != so[i+1]:\n",
    "        print(so[i],ylist[xlist.index(so[i])])\n",
    "        i += 1\n",
    "    else:\n",
    "        l = list_duplicates(xlist,ylist, so[i])\n",
    "        l.sort()\n",
    "        [print(so[i], y) for y in l]\n",
    "        i += len(l)"
   ]
  },
  {
   "cell_type": "code",
   "execution_count": 39,
   "metadata": {},
   "outputs": [
    {
     "name": "stdout",
     "output_type": "stream",
     "text": [
      "13\n",
      "but\n",
      "i\n",
      "wont\n",
      "hesitate\n",
      "no\n",
      "more\n",
      "no\n",
      "more\n",
      "it\n",
      "cannot\n",
      "wait\n",
      "im\n",
      "yours\n",
      "i\n",
      "im\n",
      "it\n",
      "no\n",
      "but\n",
      "more\n",
      "wait\n",
      "wont\n",
      "yours\n",
      "cannot\n",
      "hesitate\n"
     ]
    }
   ],
   "source": [
    "# 1181\n",
    "\n",
    "N = int(input())\n",
    "words=[]\n",
    "length=[]\n",
    "for i in range(N):\n",
    "    word = input()\n",
    "    if word not in words:\n",
    "        words.append(word)\n",
    "        length.append(len(word))\n",
    "for n in range(min(length), max(length)+1):\n",
    "    l = []\n",
    "    for i in range(N):\n",
    "        if length[i]==n:\n",
    "            l.append(words[i])\n",
    "        l.sort()\n",
    "    a = [print(i) for i in l]"
   ]
  },
  {
   "cell_type": "code",
   "execution_count": 42,
   "metadata": {},
   "outputs": [
    {
     "name": "stdout",
     "output_type": "stream",
     "text": [
      "3\n",
      "21 J\n",
      "21 D\n",
      "20 S\n",
      "20 S\n",
      "21 J\n",
      "21 D\n"
     ]
    }
   ],
   "source": [
    "#10814\n",
    "N = int(input())\n",
    "ages = []\n",
    "names = []\n",
    "for i in range(N):\n",
    "    age, name = input().split()\n",
    "    ages.append(int(age))\n",
    "    names.append(name)\n",
    "for n in range(min(ages), max(ages)+1):\n",
    "    l = []\n",
    "    for i in range(N):\n",
    "        if ages[i]==n:\n",
    "            l.append(names[i])\n",
    "    a = [print(n, i) for i in l]"
   ]
  },
  {
   "cell_type": "code",
   "execution_count": null,
   "metadata": {},
   "outputs": [],
   "source": []
  }
 ],
 "metadata": {
  "kernelspec": {
   "display_name": "Python 3",
   "language": "python",
   "name": "python3"
  },
  "language_info": {
   "codemirror_mode": {
    "name": "ipython",
    "version": 3
   },
   "file_extension": ".py",
   "mimetype": "text/x-python",
   "name": "python",
   "nbconvert_exporter": "python",
   "pygments_lexer": "ipython3",
   "version": "3.6.2"
  }
 },
 "nbformat": 4,
 "nbformat_minor": 4
}
