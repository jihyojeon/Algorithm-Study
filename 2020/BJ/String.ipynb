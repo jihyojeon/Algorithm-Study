{
 "cells": [
  {
   "cell_type": "code",
   "execution_count": 1,
   "metadata": {},
   "outputs": [
    {
     "name": "stdout",
     "output_type": "stream",
     "text": [
      "A\n",
      "65\n"
     ]
    }
   ],
   "source": [
    "# 11654\n",
    "x = input()\n",
    "print(ord(x))"
   ]
  },
  {
   "cell_type": "code",
   "execution_count": 7,
   "metadata": {},
   "outputs": [
    {
     "name": "stdout",
     "output_type": "stream",
     "text": [
      "5\n",
      "54321\n",
      "15\n"
     ]
    }
   ],
   "source": [
    "# 11720\n",
    "n = int(input())\n",
    "numbers = input()\n",
    "s = 0\n",
    "for i in range(n):\n",
    "    a = int(numbers[i])\n",
    "    s += a\n",
    "print(s)"
   ]
  },
  {
   "cell_type": "code",
   "execution_count": 11,
   "metadata": {},
   "outputs": [
    {
     "name": "stdout",
     "output_type": "stream",
     "text": [
      "baekjoon\n",
      "1 0 -1 -1 2 -1 -1 -1 -1 4 3 -1 -1 7 5 -1 -1 -1 -1 -1 -1 -1 -1 -1 -1 -1\n"
     ]
    }
   ],
   "source": [
    "# 10809\n",
    "al = ['a','b','c','d','e','f','g','h','i','j','k','l','m','n','o','p','q','r','s','t','u','v','w','x','y','z']\n",
    "l = [-1 for i in al]\n",
    "word = input()\n",
    "for i in range(len(word)):\n",
    "    if l[al.index(word[i])] == -1:\n",
    "        l[al.index(word[i])] = i\n",
    "print(*l)"
   ]
  },
  {
   "cell_type": "code",
   "execution_count": 14,
   "metadata": {},
   "outputs": [
    {
     "name": "stdout",
     "output_type": "stream",
     "text": [
      "2\n",
      "3 ABC\n",
      "AAABBBCCC\n",
      "5 /HTP\n",
      "/////HHHHHTTTTTPPPPP\n"
     ]
    }
   ],
   "source": [
    "# 2675\n",
    "T = int(input())\n",
    "for i in range(T):\n",
    "    n, S = input().split()\n",
    "    for i in S:\n",
    "        print(i*int(n), end='')\n",
    "    print()"
   ]
  },
  {
   "cell_type": "code",
   "execution_count": 40,
   "metadata": {},
   "outputs": [
    {
     "name": "stdout",
     "output_type": "stream",
     "text": [
      "Mississipi\n",
      "[1, 4, 4, 1]\n",
      "[4, 4, 1, 1]\n",
      "?\n"
     ]
    }
   ],
   "source": [
    "# 1157\n",
    "\n",
    "def maxplease(word):\n",
    "    count = {}\n",
    "    for i in range(len(word)):\n",
    "        if word[i] not in count:\n",
    "            count[word[i]] = 1\n",
    "        else:\n",
    "            count[word[i]] += 1\n",
    "    letters = list(count.keys())\n",
    "    times = list(count.values())\n",
    "    sort_time = list(count.values())\n",
    "    sort_time.sort(reverse = True) \n",
    "    max = 0\n",
    "    for i in sort_time:\n",
    "        if max < i:\n",
    "            max = i\n",
    "        elif max == i:\n",
    "            return '?'\n",
    "    return letters[times.index(max)]\n",
    "\n",
    "word = input().upper()\n",
    "print(maxplease(word))\n",
    "    "
   ]
  },
  {
   "cell_type": "code",
   "execution_count": 42,
   "metadata": {},
   "outputs": [
    {
     "name": "stdout",
     "output_type": "stream",
     "text": [
      "\n",
      "0\n"
     ]
    }
   ],
   "source": [
    "# 1152\n",
    "\n",
    "sentence = input().split()\n",
    "print(len(sentence))"
   ]
  },
  {
   "cell_type": "code",
   "execution_count": 49,
   "metadata": {},
   "outputs": [
    {
     "name": "stdout",
     "output_type": "stream",
     "text": [
      "734 893\n",
      "437\n"
     ]
    }
   ],
   "source": [
    "# 2908\n",
    "\n",
    "def inverse(a):\n",
    "    in_a = ''\n",
    "    for i in range(1, len(a)+1):\n",
    "        in_a += a[-i]\n",
    "    return int(in_a)\n",
    "\n",
    "a, b = input().split()\n",
    "m = max([inverse(a), inverse(b)])\n",
    "print(m)"
   ]
  },
  {
   "cell_type": "code",
   "execution_count": 52,
   "metadata": {},
   "outputs": [
    {
     "name": "stdout",
     "output_type": "stream",
     "text": [
      "UNUCIC\n",
      "36\n"
     ]
    }
   ],
   "source": [
    "# 5622\n",
    "word = input().lower()\n",
    "al = ['abc','def','ghi','jkl','mno','pqrs','tuv','wxyz']\n",
    "time = 0\n",
    "for a in word:\n",
    "    for l in al:\n",
    "        if a in l:\n",
    "            index = al.index(l)\n",
    "    n = index + 3\n",
    "    time += n\n",
    "print(time)"
   ]
  },
  {
   "cell_type": "code",
   "execution_count": 79,
   "metadata": {},
   "outputs": [
    {
     "name": "stdout",
     "output_type": "stream",
     "text": [
      "dz=\n",
      "1\n"
     ]
    }
   ],
   "source": [
    "# 2941\n",
    "word = input()\n",
    "a = ['c=', 'c-', 'dz=', 'd-', 'lj', 'nj', 's=', 'z=']\n",
    "for t in a:\n",
    "    word = word.replace(t, '*')\n",
    "print(len(word))"
   ]
  },
  {
   "cell_type": "code",
   "execution_count": 85,
   "metadata": {},
   "outputs": [
    {
     "name": "stdout",
     "output_type": "stream",
     "text": [
      "4\n",
      "aba\n",
      "abab\n",
      "abcabc\n",
      "a\n",
      "1\n"
     ]
    }
   ],
   "source": [
    "#1316\n",
    "def group(word):\n",
    "    l = []\n",
    "    for i in range(len(word)):\n",
    "        if word[i] not in l:\n",
    "            l.append(word[i])\n",
    "            pass\n",
    "        else:\n",
    "            if word[i-1] == word[i]:\n",
    "                pass\n",
    "            else:\n",
    "                return 0\n",
    "    return 1\n",
    "\n",
    "n = int(input())\n",
    "group_n = 0\n",
    "for i in range(n):\n",
    "    word = input()\n",
    "    group_n += group(word)\n",
    "print(group_n)"
   ]
  },
  {
   "cell_type": "code",
   "execution_count": null,
   "metadata": {},
   "outputs": [],
   "source": []
  }
 ],
 "metadata": {
  "kernelspec": {
   "display_name": "Python 3",
   "language": "python",
   "name": "python3"
  },
  "language_info": {
   "codemirror_mode": {
    "name": "ipython",
    "version": 3
   },
   "file_extension": ".py",
   "mimetype": "text/x-python",
   "name": "python",
   "nbconvert_exporter": "python",
   "pygments_lexer": "ipython3",
   "version": "3.6.2"
  }
 },
 "nbformat": 4,
 "nbformat_minor": 4
}
