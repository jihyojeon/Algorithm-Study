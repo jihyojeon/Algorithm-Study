{
 "cells": [
  {
   "cell_type": "code",
   "execution_count": 2,
   "metadata": {},
   "outputs": [
    {
     "ename": "SyntaxError",
     "evalue": "invalid syntax (<ipython-input-2-dae2ad11293c>, line 14)",
     "output_type": "error",
     "traceback": [
      "\u001b[0;36m  File \u001b[0;32m\"<ipython-input-2-dae2ad11293c>\"\u001b[0;36m, line \u001b[0;32m14\u001b[0m\n\u001b[0;31m    elif\u001b[0m\n\u001b[0m        ^\u001b[0m\n\u001b[0;31mSyntaxError\u001b[0m\u001b[0;31m:\u001b[0m invalid syntax\n"
     ]
    }
   ],
   "source": [
    "#1 View\n",
    "\n",
    "output = []\n",
    "for test in range(10):\n",
    "    \n",
    "    width = int(input())\n",
    "    bldgs = map(int,input().split())\n",
    "    house = 0\n",
    "    for i in range(2, len(bldgs)-2):\n",
    "        l = [bldg[i+j] for j in range(-2,2)]\n",
    "        if l[0] >= l[1]:\n",
    "            if l[0] < l[2]:\n",
    "                house += l[2] - l[0]\n",
    "        else:\n",
    "            if l[1] < l[2]:\n",
    "                house += l[2] - l[1]\n",
    "        if l[3] >= l[4]:\n",
    "            if l[3] < l[2]:\n",
    "                house += l[2] - l[3]\n",
    "        else:\n",
    "            if l[4] < l[2]:\n",
    "                house += l[2] - l[4]\n",
    "    output.append(house)\n",
    "\n",
    "for i in range(len(output)):\n",
    "    print('#'+i, output[i])\n",
    "        "
   ]
  },
  {
   "cell_type": "code",
   "execution_count": null,
   "metadata": {},
   "outputs": [],
   "source": []
  }
 ],
 "metadata": {
  "kernelspec": {
   "display_name": "Python 3",
   "language": "python",
   "name": "python3"
  },
  "language_info": {
   "codemirror_mode": {
    "name": "ipython",
    "version": 3
   },
   "file_extension": ".py",
   "mimetype": "text/x-python",
   "name": "python",
   "nbconvert_exporter": "python",
   "pygments_lexer": "ipython3",
   "version": "3.6.2"
  }
 },
 "nbformat": 4,
 "nbformat_minor": 4
}
