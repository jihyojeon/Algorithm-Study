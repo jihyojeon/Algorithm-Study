{
 "cells": [
  {
   "cell_type": "code",
   "execution_count": 10,
   "metadata": {},
   "outputs": [
    {
     "name": "stdout",
     "output_type": "stream",
     "text": [
      "10 2\n",
      ">\n"
     ]
    }
   ],
   "source": [
    "#1330\n",
    "x = input()\n",
    "a, b = x.split(\" \")\n",
    "a = int(a)\n",
    "b = int(b)\n",
    "if a>b:\n",
    "    print(\">\")\n",
    "if a<b:\n",
    "    print(\"<\")\n",
    "if a==b:\n",
    "    print(\"==\")"
   ]
  },
  {
   "cell_type": "code",
   "execution_count": 19,
   "metadata": {},
   "outputs": [
    {
     "name": "stdout",
     "output_type": "stream",
     "text": [
      "86\n",
      "B\n"
     ]
    }
   ],
   "source": [
    "#9498\n",
    "s = int(input())\n",
    "if s<60:\n",
    "    print(\"F\")\n",
    "elif s<70:\n",
    "    print(\"D\")\n",
    "elif s<80:\n",
    "    print(\"C\")\n",
    "elif s<90:\n",
    "    print(\"B\")\n",
    "else:\n",
    "    print(\"A\")"
   ]
  },
  {
   "cell_type": "code",
   "execution_count": 22,
   "metadata": {},
   "outputs": [
    {
     "name": "stdout",
     "output_type": "stream",
     "text": [
      "4000\n",
      "1\n"
     ]
    }
   ],
   "source": [
    "#2753\n",
    "year = int(input())\n",
    "if year%4==0:\n",
    "    if year%100!=0:\n",
    "        print(1)\n",
    "    elif year%400==0:\n",
    "        print(1)\n",
    "    else:\n",
    "        print(0)\n",
    "else:\n",
    "    print(0)"
   ]
  },
  {
   "cell_type": "code",
   "execution_count": 24,
   "metadata": {},
   "outputs": [
    {
     "name": "stdout",
     "output_type": "stream",
     "text": [
      "9\n",
      "-13\n",
      "4\n"
     ]
    }
   ],
   "source": [
    "#14681\n",
    "x = int(input())\n",
    "y = int(input())\n",
    "if x>0:\n",
    "    if y>0:\n",
    "        print(1)\n",
    "    elif y<0:\n",
    "        print(4)\n",
    "elif x<0:\n",
    "    if y<0:\n",
    "        print(3)\n",
    "    elif y>0:\n",
    "        print(2)"
   ]
  },
  {
   "cell_type": "code",
   "execution_count": 51,
   "metadata": {},
   "outputs": [
    {
     "name": "stdout",
     "output_type": "stream",
     "text": [
      "23 40\n",
      "22 55\n"
     ]
    }
   ],
   "source": [
    "#2884\n",
    "h, m = input().split(\" \")\n",
    "h=int(h)\n",
    "m=int(m)\n",
    "m = m-45\n",
    "if m<0:\n",
    "    h-=1\n",
    "    m+=60\n",
    "    if h<0:\n",
    "        h+=24\n",
    "print(h, m)"
   ]
  },
  {
   "cell_type": "code",
   "execution_count": null,
   "metadata": {},
   "outputs": [],
   "source": []
  }
 ],
 "metadata": {
  "kernelspec": {
   "display_name": "Python 3",
   "language": "python",
   "name": "python3"
  },
  "language_info": {
   "codemirror_mode": {
    "name": "ipython",
    "version": 3
   },
   "file_extension": ".py",
   "mimetype": "text/x-python",
   "name": "python",
   "nbconvert_exporter": "python",
   "pygments_lexer": "ipython3",
   "version": "3.6.2"
  }
 },
 "nbformat": 4,
 "nbformat_minor": 4
}
