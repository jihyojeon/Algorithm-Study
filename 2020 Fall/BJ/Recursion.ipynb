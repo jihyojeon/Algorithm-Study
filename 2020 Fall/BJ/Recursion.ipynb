{
 "cells": [
  {
   "cell_type": "code",
   "execution_count": 2,
   "metadata": {},
   "outputs": [
    {
     "name": "stdout",
     "output_type": "stream",
     "text": [
      "10\n",
      "3628800\n"
     ]
    }
   ],
   "source": [
    "# 10872\n",
    "\n",
    "def fac(n):\n",
    "    if(n==0):\n",
    "        return 1\n",
    "    else:\n",
    "        return fac(n-1)*n\n",
    "    \n",
    "n=int(input())\n",
    "print(fac(n))"
   ]
  },
  {
   "cell_type": "code",
   "execution_count": 11,
   "metadata": {},
   "outputs": [
    {
     "name": "stdout",
     "output_type": "stream",
     "text": [
      "10\n",
      "55\n"
     ]
    }
   ],
   "source": [
    "# 10870\n",
    "\n",
    "fibo = [0,1]\n",
    "def fibof(n):\n",
    "    if n <= 1:\n",
    "        return fibo[n]\n",
    "    else:\n",
    "        return fibof(n-1)+fibof(n-2)\n",
    "    \n",
    "n = int(input())\n",
    "print(fibof(n))"
   ]
  },
  {
   "cell_type": "code",
   "execution_count": 18,
   "metadata": {},
   "outputs": [
    {
     "name": "stdout",
     "output_type": "stream",
     "text": [
      "27\n",
      "***************************\n",
      "* ** ** ** ** ** ** ** ** *\n",
      "***************************\n",
      "***   ******   ******   ***\n",
      "* *   * ** *   * ** *   * *\n",
      "***   ******   ******   ***\n",
      "***************************\n",
      "* ** ** ** ** ** ** ** ** *\n",
      "***************************\n",
      "*********         *********\n",
      "* ** ** *         * ** ** *\n",
      "*********         *********\n",
      "***   ***         ***   ***\n",
      "* *   * *         * *   * *\n",
      "***   ***         ***   ***\n",
      "*********         *********\n",
      "* ** ** *         * ** ** *\n",
      "*********         *********\n",
      "***************************\n",
      "* ** ** ** ** ** ** ** ** *\n",
      "***************************\n",
      "***   ******   ******   ***\n",
      "* *   * ** *   * ** *   * *\n",
      "***   ******   ******   ***\n",
      "***************************\n",
      "* ** ** ** ** ** ** ** ** *\n",
      "***************************\n"
     ]
    }
   ],
   "source": [
    "#2447\n",
    "\n",
    "import sys\n",
    "\n",
    "num = int(input())\n",
    "\n",
    "def star(i, j):\n",
    "    while(i != 0):\n",
    "        if(i % 3 == 1 and j % 3 == 1):\n",
    "            sys.stdout.write(' ')\n",
    "            return None\n",
    "        i = i // 3\n",
    "        j = j // 3\n",
    "    sys.stdout.write('*')\n",
    "\n",
    "for i in range(num):\n",
    "    for j in range(num):\n",
    "            star(i, j)\n",
    "    sys.stdout.write('\\n')"
   ]
  },
  {
   "cell_type": "code",
   "execution_count": 19,
   "metadata": {},
   "outputs": [
    {
     "name": "stdout",
     "output_type": "stream",
     "text": [
      "3\n",
      "7\n",
      "1 3\n",
      "1 2\n",
      "3 2\n",
      "1 3\n",
      "2 1\n",
      "2 3\n",
      "1 3\n"
     ]
    }
   ],
   "source": [
    "# 11729\n",
    "\n",
    "def hanoi(disk, start, mid, end):\n",
    "    if disk == 1:\n",
    "        print(start, end)\n",
    "    else:\n",
    "        hanoi(disk - 1, start, end, mid)\n",
    "        print(start, end)\n",
    "        hanoi(disk - 1, mid, start, end)\n",
    "\n",
    "total_disk = int(input())\n",
    "total_mvmt = 0\n",
    "\n",
    "for disk in range(total_disk):\n",
    "    total_mvmt = total_mvmt * 2\n",
    "    total_mvmt += 1\n",
    "\n",
    "print(total_mvmt)\n",
    "hanoi(total_disk, 1, 2, 3)"
   ]
  },
  {
   "cell_type": "code",
   "execution_count": null,
   "metadata": {},
   "outputs": [],
   "source": []
  }
 ],
 "metadata": {
  "kernelspec": {
   "display_name": "Python 3",
   "language": "python",
   "name": "python3"
  },
  "language_info": {
   "codemirror_mode": {
    "name": "ipython",
    "version": 3
   },
   "file_extension": ".py",
   "mimetype": "text/x-python",
   "name": "python",
   "nbconvert_exporter": "python",
   "pygments_lexer": "ipython3",
   "version": "3.6.2"
  }
 },
 "nbformat": 4,
 "nbformat_minor": 4
}
