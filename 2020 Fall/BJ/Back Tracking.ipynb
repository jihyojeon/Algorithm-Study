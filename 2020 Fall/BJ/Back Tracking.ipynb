{
 "cells": [
  {
   "cell_type": "code",
   "execution_count": null,
   "metadata": {},
   "outputs": [],
   "source": [
    "# 15649\n",
    "\n",
    "def f(n,m,k):\n",
    "    if(n == k):\n",
    "        print(*res)\n",
    "        return\n",
    "    else:\n",
    "        for i in range(m):\n",
    "            if(visited[i] == 0):\n",
    "                visited[i] = 1\n",
    "                res[n] = arr[i]\n",
    "                f(n+1,m,k)\n",
    "                visited[i] = 0\n",
    "\n",
    "n, m = map(int, input().split())\n",
    "\n",
    "arr = range(1,n+1)\n",
    "res = [0] * m\n",
    "visited = [0 for i in range(n)]\n",
    "f(0,n,m)  "
   ]
  }
 ],
 "metadata": {
  "kernelspec": {
   "display_name": "Python 3",
   "language": "python",
   "name": "python3"
  },
  "language_info": {
   "codemirror_mode": {
    "name": "ipython",
    "version": 3
   },
   "file_extension": ".py",
   "mimetype": "text/x-python",
   "name": "python",
   "nbconvert_exporter": "python",
   "pygments_lexer": "ipython3",
   "version": "3.6.2"
  }
 },
 "nbformat": 4,
 "nbformat_minor": 4
}
