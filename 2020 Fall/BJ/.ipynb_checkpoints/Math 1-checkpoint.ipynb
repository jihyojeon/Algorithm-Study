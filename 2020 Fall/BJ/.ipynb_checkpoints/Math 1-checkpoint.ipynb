{
 "cells": [
  {
   "cell_type": "code",
   "execution_count": 27,
   "metadata": {},
   "outputs": [
    {
     "name": "stdout",
     "output_type": "stream",
     "text": [
      "1000 70 170\n",
      "11\n"
     ]
    }
   ],
   "source": [
    "# 1712\n",
    "a, b, c = input().split()\n",
    "if int(c)-int(b) <= 0:\n",
    "    point = -1\n",
    "else:\n",
    "    n = int(a) // (int(c) - int(b))\n",
    "    l = int(a) % (int(c) - int(b))\n",
    "    if l >= 0:\n",
    "        point = n+1\n",
    "    else:\n",
    "        point = n\n",
    "print(point)"
   ]
  },
  {
   "cell_type": "code",
   "execution_count": 34,
   "metadata": {},
   "outputs": [
    {
     "name": "stdout",
     "output_type": "stream",
     "text": [
      "11\n",
      "3\n"
     ]
    }
   ],
   "source": [
    "# 2839\n",
    "N = int(input())\n",
    "n_3 = N//3\n",
    "l = []\n",
    "for i in range(n_3+1):\n",
    "    n_5 = (N - 3*i)//5\n",
    "    if (N - 3*i)%5 == 0:\n",
    "        l.append(i+n_5)\n",
    "if len(l) >= 1:\n",
    "    print(min(l))\n",
    "else:\n",
    "    print(-1)"
   ]
  },
  {
   "cell_type": "code",
   "execution_count": 60,
   "metadata": {},
   "outputs": [
    {
     "name": "stdout",
     "output_type": "stream",
     "text": [
      "8\n",
      "2 1 0\n",
      "2 7 6\n",
      "3\n"
     ]
    }
   ],
   "source": [
    "# 2292\n",
    "N = int(input())\n",
    "n = 0\n",
    "start = 1\n",
    "while True:\n",
    "    end = start + 6*n\n",
    "    if N == 1:\n",
    "        print(1)\n",
    "        break\n",
    "    if N > start and N <= end:\n",
    "        print(n+1)\n",
    "        break\n",
    "    \n",
    "    n += 1\n",
    "    start = end\n"
   ]
  },
  {
   "cell_type": "code",
   "execution_count": 73,
   "metadata": {},
   "outputs": [
    {
     "name": "stdout",
     "output_type": "stream",
     "text": [
      "14\n",
      "2/4\n"
     ]
    }
   ],
   "source": [
    "# 1193\n",
    "X = int(input())\n",
    "l = 0\n",
    "n = 0\n",
    "while True:\n",
    "    l += 1 #diag\n",
    "    n += l #max\n",
    "    if X <= n:\n",
    "        if l % 2 == 1:\n",
    "            m = n - X + 1\n",
    "        else:\n",
    "            m = l - (n - X) #horiz\n",
    "        son = str(m)\n",
    "        mom = str(l-m+1)\n",
    "        print(son+'/'+mom)\n",
    "        break\n"
   ]
  },
  {
   "cell_type": "code",
   "execution_count": 84,
   "metadata": {},
   "outputs": [
    {
     "name": "stdout",
     "output_type": "stream",
     "text": [
      "2 1 5\n",
      "4\n"
     ]
    }
   ],
   "source": [
    "# 2869\n",
    "import math\n",
    "\n",
    "A, B, V = input().split()\n",
    "a = int(A)\n",
    "b = int(B)\n",
    "v = int(V)\n",
    "\n",
    "day = 1 + (v-a)/(a-b)\n",
    "print(math.ceil(day))"
   ]
  },
  {
   "cell_type": "code",
   "execution_count": 97,
   "metadata": {},
   "outputs": [
    {
     "name": "stdout",
     "output_type": "stream",
     "text": [
      "2\n",
      "6 12 10\n",
      "402\n",
      "30 50 72\n",
      "1203\n"
     ]
    }
   ],
   "source": [
    "# 10250\n",
    "T = int(input())\n",
    "for i in range(T):\n",
    "    H, W, N = input().split()\n",
    "    h = int(H)\n",
    "    w = int(W)\n",
    "    n = int(N)\n",
    "    rooms = []\n",
    "    for j in range(1,w+1):\n",
    "        for i in range(1,h+1):\n",
    "            rooms.append(100*i + j)\n",
    "    print(rooms[n-1])"
   ]
  },
  {
   "cell_type": "code",
   "execution_count": 104,
   "metadata": {},
   "outputs": [
    {
     "name": "stdout",
     "output_type": "stream",
     "text": [
      "2\n",
      "1\n",
      "3\n",
      "6\n",
      "2\n",
      "3\n",
      "10\n"
     ]
    }
   ],
   "source": [
    "# 2775\n",
    "memo = {}\n",
    "def people(roomnumber):\n",
    "    if roomnumber not in memo:\n",
    "        if roomnumber < 100:\n",
    "            memo[roomnumber] = roomnumber\n",
    "        elif roomnumber%100 == 1:\n",
    "            memo[roomnumber] = 1\n",
    "        else:\n",
    "            memo[roomnumber] = people(roomnumber-1)+people(roomnumber-100)\n",
    "    return memo[roomnumber]\n",
    "\n",
    "T = int(input())\n",
    "for i in range(T):\n",
    "    floor = int(input())\n",
    "    room = int(input())\n",
    "    roomnumber = floor*100 + room\n",
    "    print(people(roomnumber))"
   ]
  },
  {
   "cell_type": "code",
   "execution_count": 118,
   "metadata": {},
   "outputs": [
    {
     "name": "stdout",
     "output_type": "stream",
     "text": [
      "1\n",
      "0 3\n",
      "0\n"
     ]
    }
   ],
   "source": [
    "#1011\n",
    "# T = int(input())\n",
    "\n",
    "# memo = {T =0:1}\n",
    "# def move(t):\n",
    "#     if t not in memo:\n",
    "#         memo[t] = move(t-1)+1\n",
    "#     return memo[t]\n",
    "\n",
    "# for i in range(T):\n",
    "#     x, y = input().split()\n",
    "#     now = int(x)\n",
    "#     goal = int(y)\n",
    "#     t = 0\n",
    "#     m = 0\n",
    "#     l = goal - now\n",
    "#     while True:\n",
    "#         l = l - 2*move(t)\n",
    "#         if goal-now-m<move(t+):\n",
    "#             m -= move(t)\n",
    "#             t = 2*t-1\n",
    "#             t += goal-now-m\n",
    "#             print(t)\n",
    "#             break\n",
    "#         t+=1"
   ]
  },
  {
   "cell_type": "code",
   "execution_count": null,
   "metadata": {},
   "outputs": [],
   "source": [
    "# 1011\n",
    "T = int(input())\n"
   ]
  }
 ],
 "metadata": {
  "kernelspec": {
   "display_name": "Python 3",
   "language": "python",
   "name": "python3"
  },
  "language_info": {
   "codemirror_mode": {
    "name": "ipython",
    "version": 3
   },
   "file_extension": ".py",
   "mimetype": "text/x-python",
   "name": "python",
   "nbconvert_exporter": "python",
   "pygments_lexer": "ipython3",
   "version": "3.6.2"
  }
 },
 "nbformat": 4,
 "nbformat_minor": 4
}
