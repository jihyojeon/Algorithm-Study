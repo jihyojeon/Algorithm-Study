{
 "cells": [
  {
   "cell_type": "code",
   "execution_count": 11,
   "metadata": {},
   "outputs": [
    {
     "name": "stdout",
     "output_type": "stream",
     "text": [
      "10\n",
      "55\n"
     ]
    }
   ],
   "source": [
    "# 2748\n",
    "\n",
    "n = int(input())\n",
    "\n",
    "fibo = [-1 for i in range(n+1)]\n",
    "fibo[0] = 0\n",
    "fibo[1] = 1\n",
    "\n",
    "for i in range(n+1):\n",
    "    if i>=2:\n",
    "        fibo[i]=fibo[i-1]+fibo[i-2]\n",
    "\n",
    "print(fibo[n])"
   ]
  },
  {
   "cell_type": "code",
   "execution_count": 25,
   "metadata": {},
   "outputs": [
    {
     "name": "stdout",
     "output_type": "stream",
     "text": [
      "3\n",
      "0\n",
      "1 0\n",
      "1\n",
      "1 0\n",
      "3\n",
      "2 1\n"
     ]
    }
   ],
   "source": [
    "# 1003\n",
    "\n",
    "T = int(input())\n",
    "for i in range(T):\n",
    "    n = int(input())\n",
    "    fibo = [1 for i in range(n+1)]\n",
    "    fibo[0] = 0\n",
    "    for i in range(n+1):\n",
    "        if i>=2:\n",
    "            fibo[i]=fibo[i-1]+fibo[i-2]\n",
    "    if n==0:\n",
    "        print(1, 0)\n",
    "    else:\n",
    "        print(fibo[n-1], fibo[n])"
   ]
  },
  {
   "cell_type": "code",
   "execution_count": 57,
   "metadata": {},
   "outputs": [
    {
     "name": "stdout",
     "output_type": "stream",
     "text": [
      "1000000\n",
      "7871\n"
     ]
    }
   ],
   "source": [
    "# 1904\n",
    "n = int(input())\n",
    "\n",
    "fibo = [1,2,3]\n",
    "\n",
    "for i in range(n):\n",
    "    if i>=2:\n",
    "        fibo[2]=(fibo[0]+fibo[1])%15746\n",
    "        fibo[0]=fibo[1]\n",
    "        fibo[1]=fibo[2]\n",
    "if n<=2:\n",
    "    print(fibo[n-1])\n",
    "else:\n",
    "    print(fibo[2])"
   ]
  },
  {
   "cell_type": "code",
   "execution_count": 51,
   "metadata": {},
   "outputs": [
    {
     "name": "stdout",
     "output_type": "stream",
     "text": [
      "count 999981\n",
      "8.479548931121826 ssss\n"
     ]
    }
   ],
   "source": [
    "# import sys\n",
    "import time\n",
    "# n = int(sys.stdin.readline())\n",
    "# n = int(input())\n",
    "n =1000000\n",
    "a=1\n",
    "b=2\n",
    "ckpt = time.time()\n",
    "count = 0 \n",
    "for i in range(n-1):\n",
    "    tmp = a\n",
    "    a = b\n",
    "    b = (tmp+b)\n",
    "    if b > 15746:\n",
    "        count +=1\n",
    "    \n",
    "print('count', count)\n",
    "print(time.time()-ckpt ,'ssss')"
   ]
  },
  {
   "cell_type": "code",
   "execution_count": 66,
   "metadata": {},
   "outputs": [
    {
     "name": "stdout",
     "output_type": "stream",
     "text": [
      "1\n",
      "2\n",
      "1\n"
     ]
    }
   ],
   "source": [
    "# 9461\n",
    "#1 1 1 2 2 3 4 5 7 9 12 16 21 28 37\n",
    "T = int(input())\n",
    "for i in range(T):\n",
    "    n = int(input())\n",
    "\n",
    "    fibo = []\n",
    "    fibo.append(1)\n",
    "    fibo.append(1)\n",
    "    fibo.append(1)\n",
    "    fibo.append(2)\n",
    "    fibo.append(2)\n",
    "\n",
    "    for i in range(n+1):\n",
    "        if i>=5:\n",
    "            fibo.append(fibo[i-1]+fibo[i-5])\n",
    "\n",
    "    print(fibo[n-1])"
   ]
  },
  {
   "cell_type": "code",
   "execution_count": 74,
   "metadata": {},
   "outputs": [
    {
     "name": "stdout",
     "output_type": "stream",
     "text": [
      "3\n",
      "26 40 83\n",
      "49 60 57\n",
      "13 89 99\n",
      "96\n"
     ]
    }
   ],
   "source": [
    "# 1149\n",
    "\n",
    "n = int(input())\n",
    "p = []\n",
    "for i in range(n):\n",
    "    p.append(list(map(int, input().split())))\n",
    "for i in range(1, len(p)):\n",
    "    p[i][0] = min(p[i - 1][1], p[i - 1][2]) + p[i][0]\n",
    "    p[i][1] = min(p[i - 1][0], p[i - 1][2]) + p[i][1]\n",
    "    p[i][2] = min(p[i - 1][0], p[i - 1][1]) + p[i][2]\n",
    "print(min(p[n - 1][0], p[n - 1][1], p[n - 1][2]))"
   ]
  },
  {
   "cell_type": "code",
   "execution_count": 3,
   "metadata": {},
   "outputs": [
    {
     "name": "stdout",
     "output_type": "stream",
     "text": [
      "10\n",
      "3\n"
     ]
    }
   ],
   "source": [
    "# 1463\n",
    "\n",
    "n = int(input())\n",
    "dp = [0 for _ in range(n+1)]\n",
    "for i in range(2, n+1):\n",
    "    dp[i] = dp[i-1]+1\n",
    "    if i%2 == 0 and dp[i]>dp[i//2]+1:\n",
    "        dp[i] = dp[i//2]+1\n",
    "    if i%3 == 0 and dp[i]>dp[i//3]+1:\n",
    "        dp[i] = dp[i//3]+1\n",
    "print(dp[n])"
   ]
  },
  {
   "cell_type": "code",
   "execution_count": 8,
   "metadata": {},
   "outputs": [
    {
     "name": "stdout",
     "output_type": "stream",
     "text": [
      "9\n",
      "55\n"
     ]
    }
   ],
   "source": [
    "# 11726\n",
    "\n",
    "n=int(input())\n",
    "dp = [1 for _ in range(n+1)]\n",
    "for i in range(2,n+1):\n",
    "    dp[i] = dp[i-1]+dp[i-2]\n",
    "print(dp[n]%10007)"
   ]
  },
  {
   "cell_type": "code",
   "execution_count": 9,
   "metadata": {},
   "outputs": [
    {
     "name": "stdout",
     "output_type": "stream",
     "text": [
      "12\n",
      "2731\n"
     ]
    }
   ],
   "source": [
    "# 11727\n",
    "n=int(input())\n",
    "dp = [1 for _ in range(n+1)]\n",
    "for i in range(2,n+1):\n",
    "    dp[i] = dp[i-1]+2*dp[i-2]\n",
    "print(dp[n]%10007)"
   ]
  },
  {
   "cell_type": "code",
   "execution_count": 11,
   "metadata": {},
   "outputs": [
    {
     "name": "stdout",
     "output_type": "stream",
     "text": [
      "3\n",
      "4\n",
      "7\n",
      "7\n",
      "44\n",
      "10\n",
      "274\n"
     ]
    }
   ],
   "source": [
    "# 9095\n",
    "T = int(input())\n",
    "dp = [0,1,2,4,7]\n",
    "for _ in range(T):\n",
    "    n = int(input())\n",
    "    if len(dp) <= n:\n",
    "        for i in range(len(dp),n+1):\n",
    "            dp.append(dp[i-3]+dp[i-2]+dp[i-1])\n",
    "    print(dp[n])"
   ]
  },
  {
   "cell_type": "code",
   "execution_count": 17,
   "metadata": {},
   "outputs": [
    {
     "name": "stdout",
     "output_type": "stream",
     "text": [
      "100\n",
      "461218917\n"
     ]
    }
   ],
   "source": [
    "#10844\n",
    "stair_numbers = [[0 for _ in range(10)] for _ in range(101)]\n",
    "\n",
    "for i in range(1, 101):\n",
    "    for j in range(10):\n",
    "        if i == 1:\n",
    "            stair_numbers[i][j] = 1\n",
    "        else:\n",
    "            if 1 <= j <= 8:\n",
    "                stair_numbers[i][j] = stair_numbers[i-1][j-1] + stair_numbers[i-1][j+1]\n",
    "            elif j == 0:\n",
    "                stair_numbers[i][j] = stair_numbers[i-1][j+1]\n",
    "            elif j == 9:\n",
    "                stair_numbers[i][j] = stair_numbers[i-1][j-11]\n",
    "                \n",
    "N = int(input())             \n",
    "print(sum(stair_numbers[N][1:10]) % 1000000000)"
   ]
  },
  {
   "cell_type": "code",
   "execution_count": 21,
   "metadata": {},
   "outputs": [
    {
     "name": "stdout",
     "output_type": "stream",
     "text": [
      "2\n",
      "55\n"
     ]
    }
   ],
   "source": [
    "#11057\n",
    "n = int(input())\n",
    "s = [[0] * 10 for i in range(n+1)]\n",
    "for i in range(10):\n",
    "    s[1][i] = 1\n",
    "for i in range(2, n+1):\n",
    "    for j in range(10):\n",
    "        for k in range(j + 1):\n",
    "            s[i][j] += s[i - 1][k]\n",
    "print(sum(s[n]) % 10007)"
   ]
  },
  {
   "cell_type": "code",
   "execution_count": 3,
   "metadata": {},
   "outputs": [
    {
     "name": "stdout",
     "output_type": "stream",
     "text": [
      "6\n",
      "8\n"
     ]
    }
   ],
   "source": [
    "#2193\n",
    "n=int(input())\n",
    "dp = [1 for _ in range(n+1)]\n",
    "for i in range(3,n+1):\n",
    "    dp[i] = dp[i-1]+dp[i-2]\n",
    "print(dp[n])"
   ]
  },
  {
   "cell_type": "code",
   "execution_count": 5,
   "metadata": {},
   "outputs": [
    {
     "name": "stdout",
     "output_type": "stream",
     "text": [
      "2\n",
      "5\n",
      "50 10 100 20 40\n",
      "30 50 70 10 60\n",
      "260\n",
      "7\n",
      "10 30 10 50 100 20 40\n",
      "20 40 30 50 60 20 80\n",
      "290\n"
     ]
    }
   ],
   "source": [
    "#9465\n",
    "T = int(input())\n",
    "for _ in range(T):\n",
    "    n = int(input())\n",
    "    sticker = [[],[]]\n",
    "    sticker[0] = list(map(int, input().split()))\n",
    "    sticker[1] = list(map(int, input().split()))\n",
    "    sticker[0][1] += sticker[1][0]\n",
    "    sticker[1][1] += sticker[0][0]\n",
    "    for i in range(2, n):\n",
    "        sticker[0][i] += max(sticker[1][i-2], sticker[1][i-1])\n",
    "        sticker[1][i] += max(sticker[0][i-2], sticker[0][i-1])\n",
    "    print(max(sticker[0][n-1], sticker[1][n-1]))"
   ]
  },
  {
   "cell_type": "code",
   "execution_count": null,
   "metadata": {},
   "outputs": [],
   "source": [
    "#2156\n",
    "n = int(input())\n",
    "w = [int(input()) for i in range(n)]\n",
    "dp = [0, w[0]]\n",
    "if n > 1:\n",
    "    dp.append(w[0] + w[1])\n",
    "    for i in range(2, n):\n",
    "        dp.append(max(dp[i-1], dp[i-3] + w[i-1] + w[i], dp[i-2] + w[i]))\n",
    "print(dp[-1])"
   ]
  },
  {
   "cell_type": "code",
   "execution_count": null,
   "metadata": {},
   "outputs": [],
   "source": [
    "w"
   ]
  },
  {
   "cell_type": "code",
   "execution_count": 12,
   "metadata": {},
   "outputs": [
    {
     "data": {
      "text/plain": [
       "[0, 6, 16, 32, 23, 32, 40]"
      ]
     },
     "execution_count": 12,
     "metadata": {},
     "output_type": "execute_result"
    }
   ],
   "source": [
    "dp"
   ]
  },
  {
   "cell_type": "code",
   "execution_count": null,
   "metadata": {},
   "outputs": [],
   "source": [
    "# 11053"
   ]
  }
 ],
 "metadata": {
  "kernelspec": {
   "display_name": "Python 3",
   "language": "python",
   "name": "python3"
  },
  "language_info": {
   "codemirror_mode": {
    "name": "ipython",
    "version": 3
   },
   "file_extension": ".py",
   "mimetype": "text/x-python",
   "name": "python",
   "nbconvert_exporter": "python",
   "pygments_lexer": "ipython3",
   "version": "3.8.3"
  }
 },
 "nbformat": 4,
 "nbformat_minor": 4
}
