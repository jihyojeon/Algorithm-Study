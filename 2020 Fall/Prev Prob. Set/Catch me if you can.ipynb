{
 "cells": [
  {
   "cell_type": "code",
   "execution_count": 1,
   "metadata": {},
   "outputs": [
    {
     "name": "stdout",
     "output_type": "stream",
     "text": [
      "5 17\n",
      "4\n"
     ]
    }
   ],
   "source": [
    "C, B = map(int, input().split())\n",
    "\n",
    "t = 0\n",
    "Blist = [B]\n",
    "while True:\n",
    "    if C in Blist:\n",
    "        print(t)\n",
    "        break\n",
    "    elif C > 200000:\n",
    "        print(-1)\n",
    "        break\n",
    "    else:\n",
    "        t += 1\n",
    "        C += t\n",
    "        Bnext = []\n",
    "        for i in range(len(Blist)):\n",
    "            Bnext.append(Blist[i]+1)\n",
    "            Bnext.append(Blist[i]-1)\n",
    "            Bnext.append(Blist[i]*2)\n",
    "        Blist = Bnext"
   ]
  },
  {
   "cell_type": "code",
   "execution_count": null,
   "metadata": {},
   "outputs": [],
   "source": []
  }
 ],
 "metadata": {
  "kernelspec": {
   "display_name": "Python 3",
   "language": "python",
   "name": "python3"
  },
  "language_info": {
   "codemirror_mode": {
    "name": "ipython",
    "version": 3
   },
   "file_extension": ".py",
   "mimetype": "text/x-python",
   "name": "python",
   "nbconvert_exporter": "python",
   "pygments_lexer": "ipython3",
   "version": "3.8.3"
  }
 },
 "nbformat": 4,
 "nbformat_minor": 4
}
